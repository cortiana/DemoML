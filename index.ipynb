{
 "cells": [
  {
   "cell_type": "markdown",
   "metadata": {},
   "source": [
    "# Norcom task: Dr. Giorgio Cortiana\n",
    "Time Series Analysis\n",
    "Extracting information from time series is a key goal in data science. SAX is a symbolic representation of time series that provides a particular promising approach to accomplish this (see, e.g., Sec. 2.3 in iSAX: Indexing and Mining Terabyte Sized Time Series, Jin Shieh & Eamonn Keogh, SIGKDD, 2008).\n",
    "\n",
    "Your task is to familiarize yourself with the SAX concept. Then, please apply what you have learned and\n",
    "\n",
    "1) generate a time series x(t), where t >= 0 and x are real numbers,\n",
    "\n",
    "2) translate the time series into its symbolic representation using SAX, \n",
    "\n",
    "3) compute the frequency of each SAX symbol in this representation, \n",
    "\n",
    "4) locate the three most-frequent SAX symbols and\n",
    "\n",
    "5) extract the corresponding numerical values in the time series x(t).\n",
    "\n",
    "Time series can be tought of as a 1-dimensional representation of complex data: shape, DNA sequences...\n"
   ]
  },
  {
   "cell_type": "code",
   "execution_count": 1,
   "metadata": {
    "collapsed": false
   },
   "outputs": [],
   "source": [
    "# make sure plots will be added to the notebook\n",
    "%matplotlib inline\n",
    "\n",
    "# some imports\n",
    "import numpy as np\n",
    "import matplotlib.pyplot as plt\n"
   ]
  },
  {
   "cell_type": "code",
   "execution_count": 2,
   "metadata": {
    "collapsed": false
   },
   "outputs": [],
   "source": [
    "# define a function to generate a pseudo time series\n",
    "# add some random noise to it\n",
    "rng = np.random.RandomState(2015)\n",
    "def f(t):\n",
    "    #return np.sin(t)+0.001*t*t+5*rng.uniform(size=len(t))-0.00001*t*t*t\n",
    "    return 1+np.sin(t)+0.001*t*t+5*rng.uniform(size=len(t))\n",
    "    "
   ]
  },
  {
   "cell_type": "code",
   "execution_count": 3,
   "metadata": {
    "collapsed": false
   },
   "outputs": [
    {
     "data": {
      "text/plain": [
       "[<matplotlib.lines.Line2D at 0x1101775d0>]"
      ]
     },
     "execution_count": 3,
     "metadata": {},
     "output_type": "execute_result"
    },
    {
     "data": {
      "image/png": "[encoded data removed]",
      "text/plain": [
       "<matplotlib.figure.Figure at 0x1100d1550>"
      ]
     },
     "metadata": {},
     "output_type": "display_data"
    }
   ],
   "source": [
    "# let generate the time axis, 100 ptx from 0 to 100.\n",
    "# then plot the function f(t).\n",
    "\n",
    "datasetsize =100\n",
    "\n",
    "X = np.linspace(0, datasetsize, datasetsize)\n",
    "Y = f(X)\n",
    "plt.plot(X, f(X))"
   ]
  },
  {
   "cell_type": "markdown",
   "metadata": {},
   "source": [
    "Alternatively load data from some other source, example NC5A stock behaviour of the last few months. Example:\n",
    "http://finance.yahoo.com/q/hp?s=NC5A.DE+Historical+Prices\n",
    "table.csv\n",
    "\n",
    "This will be the default in the following."
   ]
  },
  {
   "cell_type": "code",
   "execution_count": 4,
   "metadata": {
    "collapsed": false
   },
   "outputs": [
    {
     "name": "stdout",
     "output_type": "stream",
     "text": [
      "          Date   Open   High    Low  Close  Volume  Adj Close\n",
      "0   2015-09-01  2.346  2.500  2.345  2.500    5000      2.500\n",
      "1   2015-08-31  2.174  2.609  2.174  2.464   56700      2.464\n",
      "2   2015-08-28  2.130  2.179  2.130  2.179    1200      2.179\n",
      "3   2015-08-27  2.021  2.119  2.021  2.119       0      2.119\n",
      "4   2015-08-26  2.119  2.119  2.119  2.119     100      2.119\n",
      "5   2015-08-25  2.150  2.150  2.150  2.150       0      2.150\n",
      "6   2015-08-24  2.181  2.309  2.010  2.119   27200      2.119\n",
      "7   2015-08-21  2.211  2.279  2.181  2.279    1300      2.279\n",
      "8   2015-08-20  2.249  2.285  2.249  2.285    1100      2.285\n",
      "9   2015-08-19  2.181  2.181  2.180  2.180    1000      2.180\n",
      "10  2015-08-18  2.239  2.239  2.239  2.239     200      2.239\n",
      "11  2015-08-17  2.249  2.249  2.249  2.249     200      2.249\n",
      "12  2015-08-14  2.279  2.279  2.279  2.279     100      2.279\n",
      "13  2015-08-13  2.250  2.394  2.250  2.280   15200      2.280\n",
      "14  2015-08-12  2.100  2.180  2.100  2.180    2000      2.180\n",
      "15  2015-08-11  2.150  2.150  2.150  2.150       0      2.150\n",
      "16  2015-08-10  2.150  2.150  2.150  2.150       0      2.150\n",
      "17  2015-08-07  2.100  2.149  2.061  2.143    3700      2.143\n",
      "18  2015-08-06  2.150  2.190  2.106  2.189    7600      2.189\n",
      "19  2015-08-05  2.220  2.220  2.220  2.220    1100      2.220\n",
      "20  2015-08-04  2.200  2.200  2.183  2.183    1200      2.183\n",
      "21  2015-08-03  2.306  2.350  2.200  2.200    8800      2.200\n",
      "22  2015-07-31  2.400  2.400  2.400  2.400    1500      2.400\n",
      "23  2015-07-30  2.515  2.600  2.515  2.550    2600      2.550\n",
      "24  2015-07-29  2.400  2.401  2.350  2.350     100      2.350\n",
      "25  2015-07-28  2.290  2.480  2.290  2.480    7700      2.480\n",
      "26  2015-07-27  2.240  2.305  2.210  2.305   10800      2.305\n",
      "27  2015-07-24  2.080  2.150  2.080  2.150    8000      2.150\n",
      "28  2015-07-23  2.001  2.001  2.000  2.000     100      2.000\n",
      "29  2015-07-22  2.020  2.020  1.989  1.999    2800      1.999\n",
      "..         ...    ...    ...    ...    ...     ...        ...\n",
      "70  2015-05-26  1.741  1.741  1.661  1.661    5300      1.661\n",
      "71  2015-05-25  1.820  1.820  1.820  1.820       0      1.820\n",
      "72  2015-05-22  1.820  1.820  1.820  1.820       0      1.820\n",
      "73  2015-05-21  1.819  1.820  1.819  1.820     200      1.820\n",
      "74  2015-05-20  1.771  1.771  1.771  1.771    1100      1.771\n",
      "75  2015-05-19  1.801  1.801  1.801  1.801       0      1.801\n",
      "76  2015-05-18  1.801  1.801  1.800  1.801       0      1.801\n",
      "77  2015-05-15  1.850  1.850  1.850  1.850    1300      1.850\n",
      "78  2015-05-14  1.950  1.950  1.950  1.950    1700      1.950\n",
      "79  2015-05-13  1.870  1.870  1.870  1.870    2000      1.870\n",
      "80  2015-05-12  1.801  1.801  1.800  1.800     200      1.800\n",
      "81  2015-05-11  1.761  1.761  1.761  1.761       0      1.761\n",
      "82  2015-05-08  1.839  1.839  1.761  1.761    2400      1.761\n",
      "83  2015-05-07  1.849  1.849  1.849  1.849     200      1.849\n",
      "84  2015-05-06  1.750  1.800  1.750  1.800    2000      1.800\n",
      "85  2015-05-05  1.831  1.831  1.830  1.830    3600      1.830\n",
      "86  2015-05-04  1.920  1.969  1.890  1.890    6300      1.890\n",
      "87  2015-05-01  2.000  2.000  2.000  2.000       0      2.000\n",
      "88  2015-04-30  1.972  2.032  1.972  2.000    6200      2.000\n",
      "89  2015-04-29  1.832  1.832  1.832  1.832     100      1.832\n",
      "90  2015-04-28  1.800  1.800  1.800  1.800    1000      1.800\n",
      "91  2015-04-27  1.800  1.832  1.800  1.832     400      1.832\n",
      "92  2015-04-24  1.831  1.831  1.830  1.830    3000      1.830\n",
      "93  2015-04-23  1.891  1.891  1.890  1.890     600      1.890\n",
      "94  2015-04-22  1.950  1.950  1.890  1.890    4900      1.890\n",
      "95  2015-04-21  1.996  1.996  1.996  1.996     100      1.996\n",
      "96  2015-04-20  1.840  1.930  1.840  1.930     700      1.930\n",
      "97  2015-04-17  1.890  1.890  1.850  1.850    2000      1.850\n",
      "98  2015-04-16  1.899  1.900  1.899  1.900    2100      1.900\n",
      "99  2015-04-15  1.830  1.830  1.830  1.830       0      1.830\n",
      "\n",
      "[100 rows x 7 columns]\n"
     ]
    },
    {
     "data": {
      "text/plain": [
       "<matplotlib.text.Text at 0x1114c55d0>"
      ]
     },
     "execution_count": 4,
     "metadata": {},
     "output_type": "execute_result"
    },
    {
     "data": {
      "image/png": "[encoded data removed]",
      "text/plain": [
       "<matplotlib.figure.Figure at 0x11146b210>"
      ]
     },
     "metadata": {},
     "output_type": "display_data"
    }
   ],
   "source": [
    "# load  NC5A stock data from file\n",
    "import pandas as pd\n",
    "filename = \"table.csv\"\n",
    "data = pd.read_table(filename,sep=',')\n",
    "print data[0:100]\n",
    "# limit datasets to the last \"datasetsize\" days\n",
    "datasetsize  =200\n",
    "closuredata = data['Close'][0:datasetsize].values\n",
    "\n",
    "# comment the following three lines to keep using the randomly generated dataset\n",
    "Y = closuredata\n",
    "X = np.linspace(0, datasetsize, datasetsize)\n",
    "\n",
    "\n",
    "# plot the data.\n",
    "plt.plot(X, closuredata)\n",
    "plt.xlabel(\"days back from Sept 1st, 2015\")\n",
    "plt.ylabel(\"NC5A value at closure (currency Euro)\")\n",
    "\n"
   ]
  },
  {
   "cell_type": "markdown",
   "metadata": {},
   "source": [
    "Print out the mean and the standard deviation of the considered time series"
   ]
  },
  {
   "cell_type": "code",
   "execution_count": 5,
   "metadata": {
    "collapsed": false
   },
   "outputs": [
    {
     "data": {
      "text/plain": [
       "1.6870750000000001"
      ]
     },
     "execution_count": 5,
     "metadata": {},
     "output_type": "execute_result"
    }
   ],
   "source": [
    "Y.mean()"
   ]
  },
  {
   "cell_type": "code",
   "execution_count": 6,
   "metadata": {
    "collapsed": false
   },
   "outputs": [
    {
     "data": {
      "text/plain": [
       "0.30528270402202612"
      ]
     },
     "execution_count": 6,
     "metadata": {},
     "output_type": "execute_result"
    }
   ],
   "source": [
    "Y.std()"
   ]
  },
  {
   "cell_type": "code",
   "execution_count": 7,
   "metadata": {
    "collapsed": true
   },
   "outputs": [],
   "source": [
    "# define a normalization function. This is needed to better define the SAX breakpoints.\n",
    "def normalize(t):\n",
    "    X = np.asanyarray(t)\n",
    "    return (X-X.mean())/X.std()\n"
   ]
  },
  {
   "cell_type": "code",
   "execution_count": 8,
   "metadata": {
    "collapsed": false
   },
   "outputs": [
    {
     "name": "stdout",
     "output_type": "stream",
     "text": [
      "Ynorm mean -2.84217094304e-16\n",
      "Ynorm std  1.0\n"
     ]
    }
   ],
   "source": [
    "# normalize the time series, and print its mean and standard deviation \n",
    "Ynorm = normalize(Y)\n",
    "print 'Ynorm mean' , Ynorm.mean()\n",
    "print 'Ynorm std ' , Ynorm.std()"
   ]
  },
  {
   "cell_type": "code",
   "execution_count": 9,
   "metadata": {
    "collapsed": false
   },
   "outputs": [
    {
     "data": {
      "text/plain": [
       "[<matplotlib.lines.Line2D at 0x11012c4d0>]"
      ]
     },
     "execution_count": 9,
     "metadata": {},
     "output_type": "execute_result"
    },
    {
     "data": {
      "image/png": "[encoded data removed]",
      "text/plain": [
       "<matplotlib.figure.Figure at 0x1101ccdd0>"
      ]
     },
     "metadata": {},
     "output_type": "display_data"
    }
   ],
   "source": [
    "# plot the normalized time series\n",
    "plt.ylim(-3.0,3.0)\n",
    "plt.plot(X, Ynorm)\n",
    "#"
   ]
  },
  {
   "cell_type": "code",
   "execution_count": 10,
   "metadata": {
    "collapsed": false
   },
   "outputs": [],
   "source": [
    "# once the data is normalized, the first step is to perform a PAA \n",
    "# (Piecewise Aggregate Approximatio)\n",
    "# \n",
    "# function adapted from saxpy module:\n",
    "# https://github.com/nphoff/saxpy\n",
    "# changes: added wordsize as an argument to the function, move internal parameter and make \n",
    "#          them available globally\n",
    "\n",
    "wordsize    =  25 # ie the number of PAA steps\n",
    "cardinality =   8 # the number of symols to be used for the SAX representation\n",
    "\n",
    "import math\n",
    "def to_PAA(x, wordsize):\n",
    "        \"\"\"\n",
    "        Funciton performs Piecewise Aggregate Approximation on data set, reducing\n",
    "        the dimension of the dataset x to w discrete levels. returns the reduced\n",
    "        dimension data set, as well as the indicies corresponding to the original\n",
    "        data for each reduced dimension.\n",
    "        \"\"\"\n",
    "        n = len(x)\n",
    "        stepFloat = n/float(wordsize)\n",
    "        step = int(math.ceil(stepFloat))\n",
    "        frameStart = 0\n",
    "        approximation = []\n",
    "        indices = []\n",
    "        i = 0\n",
    "        while frameStart <= n-step:\n",
    "            thisFrame = np.array(x[frameStart:int(frameStart + step)])\n",
    "            approximation.append(np.mean(thisFrame))\n",
    "            indices.append((frameStart, int(frameStart + step)))\n",
    "            i += 1\n",
    "            frameStart = int(i*stepFloat)\n",
    "        return (np.array(approximation), indices)"
   ]
  },
  {
   "cell_type": "code",
   "execution_count": 11,
   "metadata": {
    "collapsed": false
   },
   "outputs": [
    {
     "name": "stdout",
     "output_type": "stream",
     "text": [
      "[ 1.81487517  1.77925245  1.85827757  1.55937429  0.47226717  0.37932054\n",
      "  0.00630563 -0.08131807 -0.11243677  0.48577924  0.48905489  0.64423892\n",
      "  0.56644218  0.20612042 -0.402332   -0.65414777 -0.98335083 -1.02716268\n",
      " -0.96533474 -0.93257822 -1.22697747 -1.12092823 -0.96983876 -0.93380659\n",
      " -0.85109637] \n",
      "[(0, 8), (8, 16), (16, 24), (24, 32), (32, 40), (40, 48), (48, 56), (56, 64), (64, 72), (72, 80), (80, 88), (88, 96), (96, 104), (104, 112), (112, 120), (120, 128), (128, 136), (136, 144), (144, 152), (152, 160), (160, 168), (168, 176), (176, 184), (184, 192), (192, 200)]\n"
     ]
    }
   ],
   "source": [
    "# store the PAA values and the corresponidng indices, and print them\n",
    "(paax,index) = to_PAA(Ynorm,wordsize)\n",
    "print paax, \"\\n\", index"
   ]
  },
  {
   "cell_type": "code",
   "execution_count": 12,
   "metadata": {
    "collapsed": false
   },
   "outputs": [
    {
     "data": {
      "text/plain": [
       "<matplotlib.legend.Legend at 0x111862a50>"
      ]
     },
     "execution_count": 12,
     "metadata": {},
     "output_type": "execute_result"
    },
    {
     "data": {
      "image/png": "[encoded data removed]",
      "text/plain": [
       "<matplotlib.figure.Figure at 0x11158b590>"
      ]
     },
     "metadata": {},
     "output_type": "display_data"
    }
   ],
   "source": [
    "# plot the PAA result for the time series, and overlay this with the original time serie.\n",
    "Xstep = np.linspace(0, datasetsize-(datasetsize/wordsize), wordsize)\n",
    "binwidth= (X.max())/wordsize\n",
    "plt.bar(Xstep,paax,binwidth,label='PAA',color='g',alpha=0.3)\n",
    "plt.plot(X, Ynorm, label = \"orginal time serie\")\n",
    "plt.ylim(Ynorm.min()-1,Ynorm.max()+1)\n",
    "#plt.xlim(0,100)\n",
    "plt.legend(loc='best')"
   ]
  },
  {
   "cell_type": "code",
   "execution_count": 13,
   "metadata": {
    "collapsed": true
   },
   "outputs": [],
   "source": [
    "# to check plt.plot options, uncomment the following line\n",
    "#plt.plot?\n",
    "#plt.bar?"
   ]
  },
  {
   "cell_type": "code",
   "execution_count": 14,
   "metadata": {
    "collapsed": true
   },
   "outputs": [],
   "source": [
    "# define the break points for the SAX implementation,\n",
    "# such that the area under a N(0,1) Gaussian curve from Î²_i to Î²_i+1 = 1/cardinality \n",
    "breakpoints = {\n",
    "    '2' : [0.00],\n",
    "    '3' : [-0.43, 0.43],\n",
    "    '4' : [-0.67, 0, 0.67],\n",
    "    '5' : [-0.84, -0.25, 0.25, 0.84],\n",
    "    '6' : [-0.97, -0.43, 0, 0.43, 0.97],\n",
    "    '7' : [-1.07, -0.57, -0.18, 0.18, 0.57, 1.07],\n",
    "    '8' : [-1.15, -0.67, -0.32, 0, 0.32, 0.67, 1.15]    \n",
    "}\n",
    "beta = breakpoints[str(cardinality)]\n"
   ]
  },
  {
   "cell_type": "code",
   "execution_count": 15,
   "metadata": {
    "collapsed": false
   },
   "outputs": [
    {
     "name": "stdout",
     "output_type": "stream",
     "text": [
      "8 \n",
      "[-1.15, -0.67, -0.32, 0, 0.32, 0.67, 1.15]\n"
     ]
    }
   ],
   "source": [
    "print cardinality, \"\\n\", beta"
   ]
  },
  {
   "cell_type": "code",
   "execution_count": 16,
   "metadata": {
    "collapsed": true
   },
   "outputs": [],
   "source": [
    "# adapted from saxpy module:\n",
    "def PAA2SAX(paaX):\n",
    "    \"\"\"\n",
    "    Converts the Piecewise Aggregate Approximation of x to a series of letters.\n",
    "    \"\"\"\n",
    "    alphabetizedX = ''\n",
    "    aOffset = ord('a')\n",
    "    for i in range(0, len(paaX)):\n",
    "        letterFound = False\n",
    "        for j in range(0, len(beta)):\n",
    "            if paaX[i] < beta[j]:\n",
    "                alphabetizedX += chr(aOffset + j)\n",
    "                letterFound = True\n",
    "                break\n",
    "        if not letterFound:\n",
    "            alphabetizedX += chr(aOffset + len(beta))\n",
    "    return alphabetizedX\n"
   ]
  },
  {
   "cell_type": "code",
   "execution_count": 17,
   "metadata": {
    "collapsed": false
   },
   "outputs": [
    {
     "name": "stdout",
     "output_type": "stream",
     "text": [
      "25\n",
      "hhhhffeddffffeccbbbbabbbb\n"
     ]
    }
   ],
   "source": [
    "SAXword = str(PAA2SAX(paax))\n",
    "print len(SAXword)\n",
    "print SAXword"
   ]
  },
  {
   "cell_type": "markdown",
   "metadata": {},
   "source": [
    "The next task consist in counting the occurrency of the various SAX symbols, the to retrive the three most recurring ones and the related original data.\n",
    "\n",
    "Let us first count the number of occurencies of each symbol in the SAXword"
   ]
  },
  {
   "cell_type": "code",
   "execution_count": 18,
   "metadata": {
    "collapsed": false
   },
   "outputs": [
    {
     "name": "stdout",
     "output_type": "stream",
     "text": [
      "Counter({'b': 8, 'f': 6, 'h': 4, 'c': 2, 'e': 2, 'd': 2, 'a': 1})\n"
     ]
    }
   ],
   "source": [
    "# use Counter\n",
    "# Dict subclass for counting hashable items.  Sometimes called a bag\n",
    "# or multiset.  Elements are stored as dictionary keys and their counts\n",
    "# are stored as dictionary values.\n",
    "# See Counter? for more details\n",
    "\n",
    "from collections import Counter\n",
    "counter = Counter(SAXword)\n",
    "print counter\n",
    "\n"
   ]
  },
  {
   "cell_type": "code",
   "execution_count": 19,
   "metadata": {
    "collapsed": false
   },
   "outputs": [
    {
     "data": {
      "text/plain": [
       "[('b', 8), ('f', 6), ('h', 4)]"
      ]
     },
     "execution_count": 19,
     "metadata": {},
     "output_type": "execute_result"
    }
   ],
   "source": [
    "# get the three most common characters \n",
    "counter.most_common(3)"
   ]
  },
  {
   "cell_type": "markdown",
   "metadata": {},
   "source": [
    "The last task is to extract the original values of the time series according to these SAX symbols.\n",
    "\n",
    "We do have the indexes of the data corresponding to the PAA. These could be used to extract back the original values.\n",
    "\n",
    "Modify the PAA2SAX function to keep track of the indices as well."
   ]
  },
  {
   "cell_type": "code",
   "execution_count": 20,
   "metadata": {
    "collapsed": false,
    "scrolled": true
   },
   "outputs": [
    {
     "name": "stdout",
     "output_type": "stream",
     "text": [
      "25\n",
      "hhhhffeddffffeccbbbbabbbb\n",
      "[128, 129, 130, 131, 132, 133, 134, 135, 136, 137, 138, 139, 140, 141, 142, 143, 144, 145, 146, 147, 148, 149, 150, 151, 152, 153, 154, 155, 156, 157, 158, 159, 168, 169, 170, 171, 172, 173, 174, 175, 176, 177, 178, 179, 180, 181, 182, 183, 184, 185, 186, 187, 188, 189, 190, 191, 192, 193, 194, 195, 196, 197, 198, 199]\n"
     ]
    }
   ],
   "source": [
    "# define a dictionary with the SAX symbols and the correspoinding indices \n",
    "# for the original dataset\n",
    "indextoTS = {}\n",
    "aOffset = ord('a')\n",
    "for j in range(0, len(beta)):\n",
    "    indextoTS[chr(aOffset + j)]=[]\n",
    "indextoTS[chr(aOffset + len(beta))]=[]\n",
    "\n",
    "def PAA2SAX(paaX):\n",
    "    \"\"\"\n",
    "    Converts the Piecewise Aggregate Approximation of x to a series of letters.\n",
    "    Store also the indices to allow for mapping to the original time series data.\n",
    "    \"\"\"\n",
    "    alphabetizedX = ''    \n",
    "    for i in range(0, len(paaX)):\n",
    "        letterFound = False\n",
    "        for j in range(0, len(beta)):\n",
    "            if paaX[i] < beta[j]:\n",
    "                alphabetizedX += chr(aOffset + j)\n",
    "                letterFound = True\n",
    "                for idx in range(index[i][0], index[i][1],1):\n",
    "                    indextoTS[chr(aOffset + j)].append(idx)\n",
    "                break\n",
    "        if not letterFound:\n",
    "            alphabetizedX += chr(aOffset + len(beta))\n",
    "            for idx in range(index[i][0], index[i][1],1):\n",
    "                indextoTS[chr(aOffset + len(beta))].append(idx)    \n",
    "    return alphabetizedX\n",
    "SAXword = str(PAA2SAX(paax))\n",
    "print len(SAXword)\n",
    "print SAXword\n",
    "print indextoTS['b'] "
   ]
  },
  {
   "cell_type": "code",
   "execution_count": 21,
   "metadata": {
    "collapsed": false
   },
   "outputs": [
    {
     "name": "stdout",
     "output_type": "stream",
     "text": [
      "<type 'list'> [('b', 8), ('f', 6), ('h', 4)]\n"
     ]
    }
   ],
   "source": [
    "# save the key for the most common characters in the SAX representation\n",
    "mc = counter.most_common(3)\n",
    "print type(mc), mc"
   ]
  },
  {
   "cell_type": "code",
   "execution_count": 22,
   "metadata": {
    "collapsed": false
   },
   "outputs": [
    {
     "data": {
      "text/plain": [
       "<matplotlib.legend.Legend at 0x1118c3f50>"
      ]
     },
     "execution_count": 22,
     "metadata": {},
     "output_type": "execute_result"
    },
    {
     "data": {
      "image/png": "[encoded data removed]",
      "text/plain": [
       "<matplotlib.figure.Figure at 0x1118c3fd0>"
      ]
     },
     "metadata": {},
     "output_type": "display_data"
    }
   ],
   "source": [
    "# retrive the original time series values for the most common characters\n",
    "# plot the corresponding values in a graph\n",
    "\n",
    "for j in range(0,3,1):\n",
    "    mcl = []\n",
    "    for i in indextoTS[mc[j][0]]:\n",
    "        mcl.append(Y[i])\n",
    "    mcla = np.asarray(mcl)\n",
    "    mclax = np.asarray(X[indextoTS[mc[j][0]]])\n",
    "    plt.xlim(0,datasetsize)\n",
    "    plt.ylim(Y.min()-1, Y.max()+1)\n",
    "    if j==0:\n",
    "        plt.plot(mclax, mcla,'ro', label=mc[j][0])\n",
    "    elif j==1:\n",
    "        plt.plot(mclax, mcla,'bo', label=mc[j][0])\n",
    "    else:\n",
    "        plt.plot(mclax, mcla,'go', label=mc[j][0])\n",
    "\n",
    "plt.legend(loc='best')\n"
   ]
  },
  {
   "cell_type": "code",
   "execution_count": null,
   "metadata": {
    "collapsed": true
   },
   "outputs": [],
   "source": []
  },
  {
   "cell_type": "code",
   "execution_count": null,
   "metadata": {
    "collapsed": true
   },
   "outputs": [],
   "source": []
  }
 ],
 "metadata": {
  "kernelspec": {
   "display_name": "Python 2",
   "language": "python",
   "name": "python2"
  },
  "language_info": {
   "codemirror_mode": {
    "name": "ipython",
    "version": 2
   },
   "file_extension": ".py",
   "mimetype": "text/x-python",
   "name": "python",
   "nbconvert_exporter": "python",
   "pygments_lexer": "ipython2",
   "version": "2.7.10"
  }
 },
 "nbformat": 4,
 "nbformat_minor": 0
}
